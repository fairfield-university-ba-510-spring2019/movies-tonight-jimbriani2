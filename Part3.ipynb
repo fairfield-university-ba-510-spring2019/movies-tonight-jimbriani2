{
 "cells": [
  {
   "cell_type": "markdown",
   "metadata": {},
   "source": [
    "# Movies Tonight Part 3: SQL DML"
   ]
  },
  {
   "cell_type": "code",
   "execution_count": 1,
   "metadata": {},
   "outputs": [
    {
     "data": {
      "text/plain": [
       "'Connected: @movies.db'"
      ]
     },
     "execution_count": 1,
     "metadata": {},
     "output_type": "execute_result"
    }
   ],
   "source": [
    "%load_ext sql\n",
    "%sql sqlite:///movies.db"
   ]
  },
  {
   "cell_type": "markdown",
   "metadata": {},
   "source": [
    "1. **Load the `DATASET.csv` file into the `Movies.db` database.**  \n",
    "    - Import the CSV file to create a new table called `DATASET`. Follow the example [here](http://www.sqlitetutorial.net/sqlite-import-csv/).\n",
    "    - Use a [`PRAGMA table-info` pseudo-query](https://www.sqlite.org/pragma.html#pragma_table_info) to inspect the design of the new table. [How are we going to handle dates](https://www.sqlite.org/datatype3.html)?"
   ]
  },
  {
   "cell_type": "code",
   "execution_count": null,
   "metadata": {},
   "outputs": [],
   "source": []
  },
  {
   "cell_type": "markdown",
   "metadata": {},
   "source": [
    "2. **Populate the tables with data.**  \n",
    "\n",
    "    - Use `INSERT ... SELECT ...` queries to extract data from `DATASET` for each table of your other tables. \n",
    "    - Start with the strong entities before moving on to the weak ones. Be sure to always select distinct     values. \n",
    "    - Foreign Keys get special treatment. You will have to use JOINs to pick up the PKs from the other side of the relationships. (As in Part 1, use the fact that movie names, theater names, and people names are always unique in our source data. That way you can use then for the JOIN columns. \n",
    "    - If you have to start over, then rerun your DDL queries from Part 2. "
   ]
  },
  {
   "cell_type": "code",
   "execution_count": 2,
   "metadata": {},
   "outputs": [
    {
     "name": "stdout",
     "output_type": "stream",
     "text": [
      " * sqlite:///movies.db\n",
      "23 rows affected.\n"
     ]
    },
    {
     "data": {
      "text/plain": [
       "[]"
      ]
     },
     "execution_count": 2,
     "metadata": {},
     "output_type": "execute_result"
    }
   ],
   "source": [
    "%%sql\n",
    "INSERT INTO MOVIES (MTitle,Rating)\n",
    "SELECT DISTINCT MTitle, Rating    \n",
    "FROM DATASET;"
   ]
  },
  {
   "cell_type": "code",
   "execution_count": 5,
   "metadata": {},
   "outputs": [
    {
     "name": "stdout",
     "output_type": "stream",
     "text": [
      " * sqlite:///movies.db\n",
      "9 rows affected.\n"
     ]
    },
    {
     "data": {
      "text/plain": [
       "[]"
      ]
     },
     "execution_count": 5,
     "metadata": {},
     "output_type": "execute_result"
    }
   ],
   "source": [
    "%%sql\n",
    "INSERT INTO THEATERS (TName, TPhone, TLocation)\n",
    "SELECT DISTINCT TName, Phone, Location\n",
    "FROM DATASET;"
   ]
  },
  {
   "cell_type": "code",
   "execution_count": 7,
   "metadata": {},
   "outputs": [
    {
     "name": "stdout",
     "output_type": "stream",
     "text": [
      " * sqlite:///movies.db\n",
      "153 rows affected.\n"
     ]
    },
    {
     "data": {
      "text/plain": [
       "[]"
      ]
     },
     "execution_count": 7,
     "metadata": {},
     "output_type": "execute_result"
    }
   ],
   "source": [
    "%%sql\n",
    "INSERT INTO ARTISTS (AName)\n",
    "SELECT DISTINCT CName\n",
    "FROM DATASET;"
   ]
  },
  {
   "cell_type": "code",
   "execution_count": 9,
   "metadata": {},
   "outputs": [
    {
     "name": "stdout",
     "output_type": "stream",
     "text": [
      " * sqlite:///movies.db\n",
      "162 rows affected.\n"
     ]
    },
    {
     "data": {
      "text/plain": [
       "[]"
      ]
     },
     "execution_count": 9,
     "metadata": {},
     "output_type": "execute_result"
    }
   ],
   "source": [
    "%%sql\n",
    "INSERT INTO CREDITS (MID,AID,CCode)\n",
    "SELECT DISTINCT MID,AID,CCode\n",
    "FROM DATASET\n",
    "    JOIN MOVIES ON (MOVIES.MTitle=DATASET.MTitle)\n",
    "    JOIN ARTISTS ON (ARTISTS.AName=DATASET.CName);"
   ]
  },
  {
   "cell_type": "code",
   "execution_count": 10,
   "metadata": {},
   "outputs": [
    {
     "name": "stdout",
     "output_type": "stream",
     "text": [
      " * sqlite:///movies.db\n",
      "131 rows affected.\n"
     ]
    },
    {
     "data": {
      "text/plain": [
       "[]"
      ]
     },
     "execution_count": 10,
     "metadata": {},
     "output_type": "execute_result"
    }
   ],
   "source": [
    "%%sql\n",
    "INSERT INTO SHOWS (MID,TID,STime)\n",
    "SELECT DISTINCT MID, TID, ShowTime\n",
    "FROM DATASET\n",
    "    JOIN MOVIES ON (DATASET.MTitle = MOVIES.MTitle)\n",
    "    JOIN THEATERS ON (DATASET.TName = THEATERS.TNAME);"
   ]
  },
  {
   "cell_type": "markdown",
   "metadata": {},
   "source": [
    "3. **Check your work.**  \n",
    "There are 9 theaters, 23 movies, 152 artists, 131 shows, and 161 credits."
   ]
  },
  {
   "cell_type": "code",
   "execution_count": null,
   "metadata": {},
   "outputs": [],
   "source": [
    "YOUR CODE HERE"
   ]
  },
  {
   "cell_type": "markdown",
   "metadata": {},
   "source": [
    "4. **Now check the source data.**  \n",
    "There are actually 13 duplicate rows in the original source data! Can you spot them? Write a SQL query that counts how many times each (MTitle, TName, Showtime, CCode, and CName) appears. Which ones appear more than once?"
   ]
  },
  {
   "cell_type": "code",
   "execution_count": 12,
   "metadata": {},
   "outputs": [
    {
     "name": "stdout",
     "output_type": "stream",
     "text": [
      " * sqlite:///movies.db\n",
      "Done.\n"
     ]
    },
    {
     "data": {
      "text/html": [
       "<table>\n",
       "    <tr>\n",
       "        <th>MTitle</th>\n",
       "        <th>TName</th>\n",
       "        <th>CName</th>\n",
       "        <th>CCode</th>\n",
       "        <th>ShowTime</th>\n",
       "    </tr>\n",
       "    <tr>\n",
       "        <td>Dear God</td>\n",
       "        <td>SOCAL Canyon Springs Cinema</td>\n",
       "        <td>Garry Marshall</td>\n",
       "        <td>D</td>\n",
       "        <td>9:00 PM</td>\n",
       "    </tr>\n",
       "    <tr>\n",
       "        <td>Dear God</td>\n",
       "        <td>SOCAL Canyon Springs Cinema</td>\n",
       "        <td>Greg Kinnear</td>\n",
       "        <td>A</td>\n",
       "        <td>9:00 PM</td>\n",
       "    </tr>\n",
       "    <tr>\n",
       "        <td>Dear God</td>\n",
       "        <td>SOCAL Canyon Springs Cinema</td>\n",
       "        <td>Hector Elizondo</td>\n",
       "        <td>A</td>\n",
       "        <td>9:00 PM</td>\n",
       "    </tr>\n",
       "    <tr>\n",
       "        <td>Dear God</td>\n",
       "        <td>SOCAL Canyon Springs Cinema</td>\n",
       "        <td>Jon Seda</td>\n",
       "        <td>A</td>\n",
       "        <td>9:00 PM</td>\n",
       "    </tr>\n",
       "    <tr>\n",
       "        <td>Dear God</td>\n",
       "        <td>SOCAL Canyon Springs Cinema</td>\n",
       "        <td>Laurie Metcalf</td>\n",
       "        <td>A</td>\n",
       "        <td>9:00 PM</td>\n",
       "    </tr>\n",
       "    <tr>\n",
       "        <td>Dear God</td>\n",
       "        <td>SOCAL Canyon Springs Cinema</td>\n",
       "        <td>Maria Pitillo</td>\n",
       "        <td>A</td>\n",
       "        <td>9:00 PM</td>\n",
       "    </tr>\n",
       "    <tr>\n",
       "        <td>Dear God</td>\n",
       "        <td>SOCAL Canyon Springs Cinema</td>\n",
       "        <td>Roscoe Lee Browne</td>\n",
       "        <td>A</td>\n",
       "        <td>9:00 PM</td>\n",
       "    </tr>\n",
       "    <tr>\n",
       "        <td>Dear God</td>\n",
       "        <td>SOCAL Canyon Springs Cinema</td>\n",
       "        <td>Tim Conway</td>\n",
       "        <td>A</td>\n",
       "        <td>9:00 PM</td>\n",
       "    </tr>\n",
       "    <tr>\n",
       "        <td>High School High</td>\n",
       "        <td>United Artists Riverside (Galleria) Tyler Mall</td>\n",
       "        <td>Hart Bochner</td>\n",
       "        <td>D</td>\n",
       "        <td>9:00 PM</td>\n",
       "    </tr>\n",
       "    <tr>\n",
       "        <td>High School High</td>\n",
       "        <td>United Artists Riverside (Galleria) Tyler Mall</td>\n",
       "        <td>Jon Lovitz</td>\n",
       "        <td>A</td>\n",
       "        <td>9:00 PM</td>\n",
       "    </tr>\n",
       "    <tr>\n",
       "        <td>High School High</td>\n",
       "        <td>United Artists Riverside (Galleria) Tyler Mall</td>\n",
       "        <td>Mekhi Phifer</td>\n",
       "        <td>A</td>\n",
       "        <td>9:00 PM</td>\n",
       "    </tr>\n",
       "    <tr>\n",
       "        <td>High School High</td>\n",
       "        <td>United Artists Riverside (Galleria) Tyler Mall</td>\n",
       "        <td>Tia Carrera</td>\n",
       "        <td>A</td>\n",
       "        <td>9:00 PM</td>\n",
       "    </tr>\n",
       "    <tr>\n",
       "        <td>High School High</td>\n",
       "        <td>United Artists Riverside (Galleria) Tyler Mall</td>\n",
       "        <td>and Louise Fletcher</td>\n",
       "        <td>A</td>\n",
       "        <td>9:00 PM</td>\n",
       "    </tr>\n",
       "</table>"
      ],
      "text/plain": [
       "[('Dear God', 'SOCAL Canyon Springs Cinema', 'Garry Marshall', 'D', '9:00 PM'),\n",
       " ('Dear God', 'SOCAL Canyon Springs Cinema', 'Greg Kinnear', 'A', '9:00 PM'),\n",
       " ('Dear God', 'SOCAL Canyon Springs Cinema', 'Hector Elizondo', 'A', '9:00 PM'),\n",
       " ('Dear God', 'SOCAL Canyon Springs Cinema', 'Jon Seda', 'A', '9:00 PM'),\n",
       " ('Dear God', 'SOCAL Canyon Springs Cinema', 'Laurie Metcalf', 'A', '9:00 PM'),\n",
       " ('Dear God', 'SOCAL Canyon Springs Cinema', 'Maria Pitillo', 'A', '9:00 PM'),\n",
       " ('Dear God', 'SOCAL Canyon Springs Cinema', 'Roscoe Lee Browne', 'A', '9:00 PM'),\n",
       " ('Dear God', 'SOCAL Canyon Springs Cinema', 'Tim Conway', 'A', '9:00 PM'),\n",
       " ('High School High', 'United Artists Riverside (Galleria) Tyler Mall', 'Hart Bochner', 'D', '9:00 PM'),\n",
       " ('High School High', 'United Artists Riverside (Galleria) Tyler Mall', 'Jon Lovitz', 'A', '9:00 PM'),\n",
       " ('High School High', 'United Artists Riverside (Galleria) Tyler Mall', 'Mekhi Phifer', 'A', '9:00 PM'),\n",
       " ('High School High', 'United Artists Riverside (Galleria) Tyler Mall', 'Tia Carrera', 'A', '9:00 PM'),\n",
       " ('High School High', 'United Artists Riverside (Galleria) Tyler Mall', 'and Louise Fletcher', 'A', '9:00 PM')]"
      ]
     },
     "execution_count": 12,
     "metadata": {},
     "output_type": "execute_result"
    }
   ],
   "source": [
    "%%sql\n",
    "SELECT MTitle, TName, CName, CCode, ShowTime\n",
    "FROM DATASET\n",
    "GROUP BY MTitle, TName, CName, CCode, ShowTime\n",
    "HAVING COUNT(*)>1;"
   ]
  },
  {
   "cell_type": "markdown",
   "metadata": {},
   "source": [
    "5. **Drop the `DATASET` table.**  \n",
    "We don't need it anymore. "
   ]
  },
  {
   "cell_type": "code",
   "execution_count": 14,
   "metadata": {},
   "outputs": [
    {
     "name": "stdout",
     "output_type": "stream",
     "text": [
      " * sqlite:///movies.db\n",
      "Done.\n"
     ]
    },
    {
     "data": {
      "text/plain": [
       "[]"
      ]
     },
     "execution_count": 14,
     "metadata": {},
     "output_type": "execute_result"
    }
   ],
   "source": [
    "%%sql\n",
    "DROP TABLE DATASET;"
   ]
  },
  {
   "cell_type": "markdown",
   "metadata": {},
   "source": [
    "6. **Save, commit, and push your work to GitHub.**  \n",
    "Use the commit summary comment \"Completed Part 3\"."
   ]
  },
  {
   "cell_type": "code",
   "execution_count": null,
   "metadata": {},
   "outputs": [],
   "source": []
  }
 ],
 "metadata": {
  "kernelspec": {
   "display_name": "Python 3",
   "language": "python",
   "name": "python3"
  },
  "language_info": {
   "codemirror_mode": {
    "name": "ipython",
    "version": 3
   },
   "file_extension": ".py",
   "mimetype": "text/x-python",
   "name": "python",
   "nbconvert_exporter": "python",
   "pygments_lexer": "ipython3",
   "version": "3.6.5"
  }
 },
 "nbformat": 4,
 "nbformat_minor": 2
}
